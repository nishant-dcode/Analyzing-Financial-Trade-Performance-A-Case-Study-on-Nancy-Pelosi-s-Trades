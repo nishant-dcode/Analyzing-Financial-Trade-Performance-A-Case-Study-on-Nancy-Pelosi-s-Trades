{
  "nbformat": 4,
  "nbformat_minor": 0,
  "metadata": {
    "colab": {
      "provenance": []
    },
    "kernelspec": {
      "name": "python3",
      "display_name": "Python 3"
    },
    "language_info": {
      "name": "python"
    }
  },
  "cells": [
    {
      "cell_type": "markdown",
      "source": [
        "# Question **1**"
      ],
      "metadata": {
        "id": "c2b88l4c2YQs"
      }
    },
    {
      "cell_type": "code",
      "execution_count": null,
      "metadata": {
        "colab": {
          "base_uri": "https://localhost:8080/"
        },
        "id": "SCFI4xg3yeSp",
        "outputId": "7411e397-2518-4cd7-9a51-67d3dbbbe0af"
      },
      "outputs": [
        {
          "output_type": "stream",
          "name": "stdout",
          "text": [
            "Total Trades                         5.000000\n",
            "Total Buy Trades                     3.000000\n",
            "Total Sell Trades                    2.000000\n",
            "Total Volume Traded                 71.000000\n",
            "Total Market Value Traded        15050.000000\n",
            "Net Profit/Loss                      2.146385\n",
            "Average Profit/Loss per Trade        0.429277\n",
            "Maximum Profit                    3281.236510\n",
            "Maximum Loss                     -4510.656994\n",
            "Win Rate                            40.000000\n",
            "dtype: float64\n"
          ]
        }
      ],
      "source": [
        "import pandas as pd\n",
        "import numpy as np\n",
        "import random\n",
        "from datetime import datetime\n",
        "\n",
        "def getTickerPrice(ticker: str, date: datetime) -> float:\n",
        "    # This function returns the price of the security 'ticker' at the given 'date'\n",
        "    # For the purpose of this exercise, assume it returns a random number\n",
        "    return random.uniform(1, 100)\n",
        "\n",
        "def calculate_trade_metrics(trades: pd.DataFrame) -> pd.Series:\n",
        "    # Handling edge cases\n",
        "    if trades.empty:\n",
        "        return pd.Series(dtype='float64')\n",
        "\n",
        "    # Filling missing values in 'Size' with 1\n",
        "    trades['Size'].fillna(1, inplace=True)\n",
        "\n",
        "    # Calculating additional columns for PnL and Market Value\n",
        "    trades['Market Value'] = trades['Size'] * trades['Price']\n",
        "    trades['PnL'] = trades.apply(lambda row: row['Size'] * (getTickerPrice(row['Symbol'], row['Date']) - row['Price']) * (1 if row['Side'] == 'buy' else -1), axis=1)\n",
        "\n",
        "    # Metrics Calculation\n",
        "    metrics = {}\n",
        "\n",
        "    # 1. Total Trades\n",
        "    metrics['Total Trades'] = len(trades)\n",
        "\n",
        "    # 2. Total Buy Trades\n",
        "    metrics['Total Buy Trades'] = len(trades[trades['Side'] == 'buy'])\n",
        "\n",
        "    # 3. Total Sell Trades\n",
        "    metrics['Total Sell Trades'] = len(trades[trades['Side'] == 'sell'])\n",
        "\n",
        "    # 4. Total Volume Traded\n",
        "    metrics['Total Volume Traded'] = trades['Size'].sum()\n",
        "\n",
        "    # 5. Total Market Value Traded\n",
        "    metrics['Total Market Value Traded'] = trades['Market Value'].sum()\n",
        "\n",
        "    # 6. Net Profit/Loss\n",
        "    metrics['Net Profit/Loss'] = trades['PnL'].sum()\n",
        "\n",
        "    # 7. Average Profit/Loss per Trade\n",
        "    metrics['Average Profit/Loss per Trade'] = trades['PnL'].mean()\n",
        "\n",
        "    # 8. Maximum Profit\n",
        "    metrics['Maximum Profit'] = trades['PnL'].max()\n",
        "\n",
        "    # 9. Maximum Loss\n",
        "    metrics['Maximum Loss'] = trades['PnL'].min()\n",
        "\n",
        "    # 10. Win Rate (Percentage of profitable trades)\n",
        "    metrics['Win Rate'] = len(trades[trades['PnL'] > 0]) / metrics['Total Trades'] * 100\n",
        "\n",
        "    return pd.Series(metrics)\n",
        "\n",
        "# Example usage\n",
        "trades_data = {\n",
        "    'Date': pd.date_range(start='2022-01-01', periods=5, freq='D'),\n",
        "    'Symbol': ['AAPL', 'MSFT', 'GOOG', 'AAPL', 'MSFT'],\n",
        "    'Side': ['buy', 'sell', 'buy', 'sell', 'buy'],\n",
        "    'Size': [10, 15, np.nan, 20, 25],\n",
        "    'Price': [150, 250, 200, 155, 260]\n",
        "}\n",
        "\n",
        "trades_df = pd.DataFrame(trades_data)\n",
        "metrics = calculate_trade_metrics(trades_df)\n",
        "print(metrics)\n"
      ]
    },
    {
      "cell_type": "markdown",
      "source": [
        "Profit on long positions (buys) is computed as (purchase price - current price) * size. The formula for calculating profit on short positions (sells) is (sell price - current price) * size. For these computations, the current market price of the securities is retrieved using the function getTickerPrice."
      ],
      "metadata": {
        "id": "u3kcfw6P1jYB"
      }
    },
    {
      "cell_type": "code",
      "source": [],
      "metadata": {
        "id": "mBe1COfQ2Uwy"
      },
      "execution_count": null,
      "outputs": []
    },
    {
      "cell_type": "code",
      "source": [],
      "metadata": {
        "id": "krqJeVEI2VkM"
      },
      "execution_count": null,
      "outputs": []
    },
    {
      "cell_type": "markdown",
      "source": [
        "# **Question 2: Analyzing Nancy Pelosi's Trading Performance**"
      ],
      "metadata": {
        "id": "huzFvhkM2-_g"
      }
    },
    {
      "cell_type": "code",
      "source": [
        "import pandas as pd\n",
        "\n",
        "# Load the CSV file into a pandas DataFrame\n",
        "file_path = r'/content/testData.csv'\n",
        "trades_df = pd.read_csv(file_path)\n",
        "\n",
        "# Display the first few rows of the DataFrame\n",
        "print(trades_df.head())\n"
      ],
      "metadata": {
        "colab": {
          "base_uri": "https://localhost:8080/"
        },
        "id": "Jv87wv263Igd",
        "outputId": "d3bedcc6-b0ed-422b-f3cf-0a4017b63bda"
      },
      "execution_count": 15,
      "outputs": [
        {
          "output_type": "stream",
          "name": "stdout",
          "text": [
            "   disclosureYear disclosureDate transactionDate      owner ticker  \\\n",
            "0            2023      6/15/2023       5/20/2023     Spouse   AAPL   \n",
            "1            2023      5/12/2023       4/10/2023       Self  GOOGL   \n",
            "2            2023     12/29/2023       12/6/2022  Dependent   AMZN   \n",
            "3            2023      2/13/2022       4/14/2022       Self   AMZN   \n",
            "4            2023      6/23/2023       3/11/2022      Joint   MSFT   \n",
            "\n",
            "      assetDescription         type               amount representative  \\\n",
            "0     Apple Inc. Stock     Purchase  $100,001 - $250,000   Nancy Pelosi   \n",
            "1  Alphabet Inc. Stock  Sale (Full)   $50,001 - $100,000   Nancy Pelosi   \n",
            "2           AMZN Stock     Purchase  $100,001 - $250,000   Nancy Pelosi   \n",
            "3           AMZN Stock     Purchase  $100,001 - $250,000   Nancy Pelosi   \n",
            "4           MSFT Stock     Purchase     $1,001 - $15,000   Nancy Pelosi   \n",
            "\n",
            "  district capitalGainsOver200USD option_symbol  \n",
            "0    CA-12                    Yes           NaN  \n",
            "1    CA-12                     No           NaN  \n",
            "2    NY-14                    Yes           NaN  \n",
            "3     FL-9                     No           NaN  \n",
            "4    CA-12                    Yes           NaN  \n"
          ]
        }
      ]
    },
    {
      "cell_type": "code",
      "source": [
        "# Preprocess the data\n",
        "trades['Date'] = pd.to_datetime(trades['transactionDate'])  # Ensure Date column is in datetime format\n",
        "trades['Symbol'] = trades['ticker']\n",
        "trades['Side'] = trades['type'].apply(lambda x: 'buy' if 'purchase' in x.lower() else 'sell')\n",
        "trades['Size'] = 1  # Assuming size is 1 for each trade, since it's not directly available\n",
        "\n",
        "# Extract price information from the 'amount' column\n",
        "# Assuming 'amount' represents the total value of the transaction\n",
        "# If 'amount' is a range (e.g., \"$1,001 - $15,000\"), we take the average of the range\n",
        "def parse_amount(amount):\n",
        "    if '-' in amount:\n",
        "        low, high = amount.replace('$', '').replace(',', '').split(' - ')\n",
        "        return (float(low) + float(high)) / 2\n",
        "    return float(amount.replace('$', '').replace(',', ''))\n",
        "\n",
        "trades['Price'] = trades['amount'].apply(parse_amount)\n",
        "\n",
        "# Select the required columns\n",
        "trades = trades[['Date', 'Symbol', 'Side', 'Size', 'Price']]\n",
        "\n",
        "# Display the first few rows of the preprocessed DataFrame\n",
        "print(trades.head())\n"
      ],
      "metadata": {
        "colab": {
          "base_uri": "https://localhost:8080/"
        },
        "id": "-GZ3Yc2PGPCF",
        "outputId": "1868e04d-c1b7-4e7b-e1d5-205906b85aad"
      },
      "execution_count": 23,
      "outputs": [
        {
          "output_type": "stream",
          "name": "stdout",
          "text": [
            "        Date Symbol  Side  Size     Price\n",
            "0 2023-05-20   AAPL   buy     1  175000.5\n",
            "1 2023-04-10  GOOGL  sell     1   75000.5\n",
            "2 2022-12-06   AMZN   buy     1  175000.5\n",
            "3 2022-04-14   AMZN   buy     1  175000.5\n",
            "4 2022-03-11   MSFT   buy     1    8000.5\n"
          ]
        }
      ]
    },
    {
      "cell_type": "code",
      "source": [
        "# Define the calculate_trade_metrics function\n",
        "def calculate_trade_metrics(trades: pd.DataFrame) -> pd.Series:\n",
        "    # Handling edge cases\n",
        "    if trades.empty:\n",
        "        return pd.Series(dtype='float64')\n",
        "\n",
        "    # Filling missing values in 'Size' with 1\n",
        "    trades['Size'].fillna(1, inplace=True)\n",
        "\n",
        "    # Calculating additional columns for PnL and Market Value\n",
        "    trades['Market Value'] = trades['Size'] * trades['Price']\n",
        "    trades['PnL'] = trades.apply(lambda row: row['Size'] * (getTickerPrice(row['Symbol'], row['Date']) - row['Price']) * (1 if row['Side'] == 'buy' else -1), axis=1)\n",
        "\n",
        "    # Metrics Calculation\n",
        "    metrics = {}\n",
        "\n",
        "    # 1. Total Trades\n",
        "    metrics['Total Trades'] = len(trades)\n",
        "\n",
        "    # 2. Total Buy Trades\n",
        "    metrics['Total Buy Trades'] = len(trades[trades['Side'] == 'buy'])\n",
        "\n",
        "    # 3. Total Sell Trades\n",
        "    metrics['Total Sell Trades'] = len(trades[trades['Side'] == 'sell'])\n",
        "\n",
        "    # 4. Total Volume Traded\n",
        "    metrics['Total Volume Traded'] = trades['Size'].sum()\n",
        "\n",
        "    # 5. Total Market Value Traded\n",
        "    metrics['Total Market Value Traded'] = trades['Market Value'].sum()\n",
        "\n",
        "    # 6. Net Profit/Loss\n",
        "    metrics['Net Profit/Loss'] = trades['PnL'].sum()\n",
        "\n",
        "    # 7. Average Profit/Loss per Trade\n",
        "    metrics['Average Profit/Loss per Trade'] = trades['PnL'].mean()\n",
        "\n",
        "    # 8. Maximum Profit\n",
        "    metrics['Maximum Profit'] = trades['PnL'].max()\n",
        "\n",
        "    # 9. Maximum Loss\n",
        "    metrics['Maximum Loss'] = trades['PnL'].min()\n",
        "\n",
        "    # 10. Win Rate (Percentage of profitable trades)\n",
        "    metrics['Win Rate'] = len(trades[trades['PnL'] > 0]) / metrics['Total Trades'] * 100\n",
        "\n",
        "    return pd.Series(metrics)\n",
        "\n",
        "# Apply the trade performance calculation function\n",
        "metrics = calculate_trade_metrics(trades)\n",
        "print(metrics)\n"
      ],
      "metadata": {
        "colab": {
          "base_uri": "https://localhost:8080/"
        },
        "id": "E2qLz0fCGRNC",
        "outputId": "ac132078-e7e2-4b78-d1ad-87cc7a06de5e"
      },
      "execution_count": 24,
      "outputs": [
        {
          "output_type": "stream",
          "name": "stdout",
          "text": [
            "Total Trades                     1.020000e+02\n",
            "Total Buy Trades                 4.000000e+01\n",
            "Total Sell Trades                6.200000e+01\n",
            "Total Volume Traded              1.020000e+02\n",
            "Total Market Value Traded        1.307605e+07\n",
            "Net Profit/Loss                  4.278049e+06\n",
            "Average Profit/Loss per Trade    4.194165e+04\n",
            "Maximum Profit                   3.749925e+05\n",
            "Maximum Loss                    -3.749789e+05\n",
            "Win Rate                         6.078431e+01\n",
            "dtype: float64\n"
          ]
        },
        {
          "output_type": "stream",
          "name": "stderr",
          "text": [
            "<ipython-input-24-9cde51bb407a>:8: SettingWithCopyWarning: \n",
            "A value is trying to be set on a copy of a slice from a DataFrame\n",
            "\n",
            "See the caveats in the documentation: https://pandas.pydata.org/pandas-docs/stable/user_guide/indexing.html#returning-a-view-versus-a-copy\n",
            "  trades['Size'].fillna(1, inplace=True)\n",
            "<ipython-input-24-9cde51bb407a>:11: SettingWithCopyWarning: \n",
            "A value is trying to be set on a copy of a slice from a DataFrame.\n",
            "Try using .loc[row_indexer,col_indexer] = value instead\n",
            "\n",
            "See the caveats in the documentation: https://pandas.pydata.org/pandas-docs/stable/user_guide/indexing.html#returning-a-view-versus-a-copy\n",
            "  trades['Market Value'] = trades['Size'] * trades['Price']\n",
            "<ipython-input-24-9cde51bb407a>:12: SettingWithCopyWarning: \n",
            "A value is trying to be set on a copy of a slice from a DataFrame.\n",
            "Try using .loc[row_indexer,col_indexer] = value instead\n",
            "\n",
            "See the caveats in the documentation: https://pandas.pydata.org/pandas-docs/stable/user_guide/indexing.html#returning-a-view-versus-a-copy\n",
            "  trades['PnL'] = trades.apply(lambda row: row['Size'] * (getTickerPrice(row['Symbol'], row['Date']) - row['Price']) * (1 if row['Side'] == 'buy' else -1), axis=1)\n"
          ]
        }
      ]
    },
    {
      "cell_type": "code",
      "source": [
        "# Interpretation of results\n",
        "interpretation = \"\"\"\n",
        "Interpretation of Nancy Pelosi's Trading Performance:\n",
        "\n",
        "Total Trades: 102\n",
        "This indicates that a total of 102 trades were executed over the analyzed period.\n",
        "\n",
        "Total Buy Trades: 40\n",
        "Out of the total trades, 40 were buy trades, showing that a significant portion of the trades involved purchasing securities.\n",
        "\n",
        "Total Sell Trades: 62\n",
        "The remaining 62 trades were sell trades, indicating a slightly higher inclination towards selling.\n",
        "\n",
        "Total Volume Traded: 102\n",
        "This matches the total number of trades since we assumed each trade involves 1 unit of the security.\n",
        "\n",
        "Total Market Value Traded: $13,076,050\n",
        "This represents the total dollar amount of all trades executed.\n",
        "\n",
        "Net Profit/Loss: $4,278,049\n",
        "The net profit or loss across all trades is $4,278,049, indicating a significant overall profit.\n",
        "\n",
        "Average Profit/Loss per Trade: $41,941.65\n",
        "On average, each trade resulted in a profit of $41,941.65.\n",
        "\n",
        "Maximum Profit: $374,992.50\n",
        "The highest profit from a single trade was $374,992.50.\n",
        "\n",
        "Maximum Loss: -$374,978.90\n",
        "The largest loss from a single trade was $374,978.90.\n",
        "\n",
        "Win Rate: 60.78%\n",
        "About 60.78% of the trades were profitable.\n",
        "\"\"\"\n",
        "print(interpretation)\n"
      ],
      "metadata": {
        "colab": {
          "base_uri": "https://localhost:8080/"
        },
        "id": "oFHVuVDXGh-b",
        "outputId": "71ca0b11-6b5f-4e17-a38e-004b83db2a9f"
      },
      "execution_count": 27,
      "outputs": [
        {
          "output_type": "stream",
          "name": "stdout",
          "text": [
            "\n",
            "Interpretation of Nancy Pelosi's Trading Performance:\n",
            "\n",
            "Total Trades: 102\n",
            "This indicates that a total of 102 trades were executed over the analyzed period.\n",
            "\n",
            "Total Buy Trades: 40\n",
            "Out of the total trades, 40 were buy trades, showing that a significant portion of the trades involved purchasing securities.\n",
            "\n",
            "Total Sell Trades: 62\n",
            "The remaining 62 trades were sell trades, indicating a slightly higher inclination towards selling.\n",
            "\n",
            "Total Volume Traded: 102\n",
            "This matches the total number of trades since we assumed each trade involves 1 unit of the security.\n",
            "\n",
            "Total Market Value Traded: $13,076,050\n",
            "This represents the total dollar amount of all trades executed.\n",
            "\n",
            "Net Profit/Loss: $4,278,049\n",
            "The net profit or loss across all trades is $4,278,049, indicating a significant overall profit.\n",
            "\n",
            "Average Profit/Loss per Trade: $41,941.65\n",
            "On average, each trade resulted in a profit of $41,941.65.\n",
            "\n",
            "Maximum Profit: $374,992.50\n",
            "The highest profit from a single trade was $374,992.50.\n",
            "\n",
            "Maximum Loss: -$374,978.90\n",
            "The largest loss from a single trade was $374,978.90.\n",
            "\n",
            "Win Rate: 60.78%\n",
            "About 60.78% of the trades were profitable.\n",
            "\n"
          ]
        }
      ]
    }
  ]
}